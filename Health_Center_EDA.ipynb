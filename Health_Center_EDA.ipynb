{
 "cells": [
  {
   "cell_type": "markdown",
   "metadata": {},
   "source": [
    "# HC Cleaning"
   ]
  },
  {
   "cell_type": "code",
   "execution_count": 1,
   "metadata": {},
   "outputs": [],
   "source": [
    "import math\n",
    "import pandas as pd\n",
    "import numpy as np\n",
    "import matplotlib.pyplot as plt"
   ]
  },
  {
   "cell_type": "code",
   "execution_count": 2,
   "metadata": {},
   "outputs": [
    {
     "data": {
      "text/html": [
       "<div>\n",
       "<style scoped>\n",
       "    .dataframe tbody tr th:only-of-type {\n",
       "        vertical-align: middle;\n",
       "    }\n",
       "\n",
       "    .dataframe tbody tr th {\n",
       "        vertical-align: top;\n",
       "    }\n",
       "\n",
       "    .dataframe thead th {\n",
       "        text-align: right;\n",
       "    }\n",
       "</style>\n",
       "<table border=\"1\" class=\"dataframe\">\n",
       "  <thead>\n",
       "    <tr style=\"text-align: right;\">\n",
       "      <th></th>\n",
       "      <th>PAYS</th>\n",
       "      <th>PROVINCE</th>\n",
       "      <th>NOMZS</th>\n",
       "      <th>CODEZS</th>\n",
       "      <th>NOMAS</th>\n",
       "      <th>CODEAS</th>\n",
       "      <th>NOM</th>\n",
       "      <th>CODEHC</th>\n",
       "      <th>TYPE</th>\n",
       "      <th>EDITI_PAR</th>\n",
       "      <th>POINT_X</th>\n",
       "      <th>POINT_Y</th>\n",
       "      <th>OPERATIONE</th>\n",
       "      <th>SOURCE</th>\n",
       "      <th>STATUT</th>\n",
       "      <th>DATE</th>\n",
       "      <th>FIABILITE</th>\n",
       "    </tr>\n",
       "  </thead>\n",
       "  <tbody>\n",
       "    <tr>\n",
       "      <th>0</th>\n",
       "      <td>RDC</td>\n",
       "      <td>Nord-Kivu</td>\n",
       "      <td>ALIMBONGO</td>\n",
       "      <td>612302.0</td>\n",
       "      <td>CHECK BUYINGA</td>\n",
       "      <td>61230100</td>\n",
       "      <td>CS NGENGERE</td>\n",
       "      <td>NaN</td>\n",
       "      <td>CENTRE DE SANTE</td>\n",
       "      <td>OMS-DSNIS</td>\n",
       "      <td>28.633333</td>\n",
       "      <td>-0.116667</td>\n",
       "      <td>0</td>\n",
       "      <td>NaN</td>\n",
       "      <td>NaN</td>\n",
       "      <td>2018-12-29</td>\n",
       "      <td>TRES BAS</td>\n",
       "    </tr>\n",
       "    <tr>\n",
       "      <th>1</th>\n",
       "      <td>RDC</td>\n",
       "      <td>Nord-Kivu</td>\n",
       "      <td>ALIMBONGO</td>\n",
       "      <td>612302.0</td>\n",
       "      <td>CHECK BUYINGA</td>\n",
       "      <td>61230100</td>\n",
       "      <td>PS NGELE</td>\n",
       "      <td>NaN</td>\n",
       "      <td>POSTE DE SANTE</td>\n",
       "      <td>OMS-DSNIS</td>\n",
       "      <td>28.633333</td>\n",
       "      <td>-0.116667</td>\n",
       "      <td>0</td>\n",
       "      <td>NaN</td>\n",
       "      <td>NaN</td>\n",
       "      <td>2018-12-29</td>\n",
       "      <td>A VERIFIER</td>\n",
       "    </tr>\n",
       "    <tr>\n",
       "      <th>2</th>\n",
       "      <td>RDC</td>\n",
       "      <td>Nord-Kivu</td>\n",
       "      <td>ALIMBONGO</td>\n",
       "      <td>612302.0</td>\n",
       "      <td>CHECK BUYINGA</td>\n",
       "      <td>61230100</td>\n",
       "      <td>CS KASABINYOLE</td>\n",
       "      <td>NaN</td>\n",
       "      <td>CENTRE DE SANTE</td>\n",
       "      <td>OMS-DSNIS</td>\n",
       "      <td>28.666667</td>\n",
       "      <td>-0.383333</td>\n",
       "      <td>0</td>\n",
       "      <td>NaN</td>\n",
       "      <td>NaN</td>\n",
       "      <td>2018-12-29</td>\n",
       "      <td>TRES BAS</td>\n",
       "    </tr>\n",
       "    <tr>\n",
       "      <th>3</th>\n",
       "      <td>RDC</td>\n",
       "      <td>Nord-Kivu</td>\n",
       "      <td>ALIMBONGO</td>\n",
       "      <td>612302.0</td>\n",
       "      <td>CHECK BUYINGA</td>\n",
       "      <td>61230100</td>\n",
       "      <td>CS KYANGIKE</td>\n",
       "      <td>NaN</td>\n",
       "      <td>CENTRE DE SANTE</td>\n",
       "      <td>OMS-DSNIS</td>\n",
       "      <td>28.766667</td>\n",
       "      <td>-0.250000</td>\n",
       "      <td>0</td>\n",
       "      <td>NaN</td>\n",
       "      <td>NaN</td>\n",
       "      <td>2018-12-29</td>\n",
       "      <td>A VERIFIER</td>\n",
       "    </tr>\n",
       "    <tr>\n",
       "      <th>4</th>\n",
       "      <td>RDC</td>\n",
       "      <td>Nord-Kivu</td>\n",
       "      <td>ALIMBONGO</td>\n",
       "      <td>612302.0</td>\n",
       "      <td>BUNYATENGE</td>\n",
       "      <td>61230203</td>\n",
       "      <td>CS BUNYATENGE</td>\n",
       "      <td>6.123020e+09</td>\n",
       "      <td>CENTRE DE SANTE</td>\n",
       "      <td>OMS-DSNIS</td>\n",
       "      <td>28.848931</td>\n",
       "      <td>-0.449229</td>\n",
       "      <td>0</td>\n",
       "      <td>NaN</td>\n",
       "      <td>NaN</td>\n",
       "      <td>2018-12-29</td>\n",
       "      <td>BASSE</td>\n",
       "    </tr>\n",
       "  </tbody>\n",
       "</table>\n",
       "</div>"
      ],
      "text/plain": [
       "  PAYS   PROVINCE      NOMZS    CODEZS          NOMAS    CODEAS  \\\n",
       "0  RDC  Nord-Kivu  ALIMBONGO  612302.0  CHECK BUYINGA  61230100   \n",
       "1  RDC  Nord-Kivu  ALIMBONGO  612302.0  CHECK BUYINGA  61230100   \n",
       "2  RDC  Nord-Kivu  ALIMBONGO  612302.0  CHECK BUYINGA  61230100   \n",
       "3  RDC  Nord-Kivu  ALIMBONGO  612302.0  CHECK BUYINGA  61230100   \n",
       "4  RDC  Nord-Kivu  ALIMBONGO  612302.0     BUNYATENGE  61230203   \n",
       "\n",
       "              NOM        CODEHC             TYPE  EDITI_PAR    POINT_X  \\\n",
       "0     CS NGENGERE           NaN  CENTRE DE SANTE  OMS-DSNIS  28.633333   \n",
       "1        PS NGELE           NaN   POSTE DE SANTE  OMS-DSNIS  28.633333   \n",
       "2  CS KASABINYOLE           NaN  CENTRE DE SANTE  OMS-DSNIS  28.666667   \n",
       "3     CS KYANGIKE           NaN  CENTRE DE SANTE  OMS-DSNIS  28.766667   \n",
       "4   CS BUNYATENGE  6.123020e+09  CENTRE DE SANTE  OMS-DSNIS  28.848931   \n",
       "\n",
       "    POINT_Y  OPERATIONE SOURCE STATUT       DATE   FIABILITE  \n",
       "0 -0.116667           0    NaN    NaN 2018-12-29    TRES BAS  \n",
       "1 -0.116667           0    NaN    NaN 2018-12-29  A VERIFIER  \n",
       "2 -0.383333           0    NaN    NaN 2018-12-29    TRES BAS  \n",
       "3 -0.250000           0    NaN    NaN 2018-12-29  A VERIFIER  \n",
       "4 -0.449229           0    NaN    NaN 2018-12-29       BASSE  "
      ]
     },
     "execution_count": 2,
     "metadata": {},
     "output_type": "execute_result"
    }
   ],
   "source": [
    "HC= pd.read_excel('nk_it_aoiebola_structuresanitaire.xls')\n",
    "HC.head()"
   ]
  },
  {
   "cell_type": "code",
   "execution_count": 3,
   "metadata": {},
   "outputs": [
    {
     "data": {
      "text/plain": [
       "array(['Nord-Kivu', 'NON DEFINIE', 'Ituri', 'SUD-KIVU', 'NORK KIVU'],\n",
       "      dtype=object)"
      ]
     },
     "execution_count": 3,
     "metadata": {},
     "output_type": "execute_result"
    }
   ],
   "source": [
    "HC.PROVINCE.unique()"
   ]
  },
  {
   "cell_type": "code",
   "execution_count": 4,
   "metadata": {},
   "outputs": [],
   "source": [
    "HC.drop(HC[HC['PROVINCE'] == 'NON DEFINIE' ].index , inplace=True)\n",
    "HC.drop(HC[HC['PROVINCE'] == 'SUD-KIVU' ].index , inplace=True)\n",
    "HC.replace({'NORK KIVU': 'Nord-Kivu'}, inplace=True)\n",
    "HC.rename(columns={'POINT_X': 'LONGITUDE', 'POINT_Y': 'LATITUDE', 'NOMZS': 'NOM_ZS'}, inplace=True)"
   ]
  },
  {
   "cell_type": "code",
   "execution_count": 5,
   "metadata": {},
   "outputs": [
    {
     "data": {
      "text/plain": [
       "array(['Nord-Kivu', 'Ituri'], dtype=object)"
      ]
     },
     "execution_count": 5,
     "metadata": {},
     "output_type": "execute_result"
    }
   ],
   "source": [
    "HC.PROVINCE.unique()"
   ]
  },
  {
   "cell_type": "code",
   "execution_count": 11,
   "metadata": {},
   "outputs": [
    {
     "data": {
      "text/plain": [
       "array(['CENTRE DE SANTE', 'POSTE DE SANTE',\n",
       "       'CENTRE DE SANTE DE REFERENCE',\n",
       "       'BUREAU CENTRAL DE LA ZONE DE SANTE', 'DISPENSAIRE',\n",
       "       'TRADI PRATICIEN', 'CENTRE MEDICAL', 'CLINIQUE', 'LABORATOIRE',\n",
       "       'CENTRE HOSPITALIER', 'CENTRE PSYCHIATRIQUE', 'MORGUE',\n",
       "       \"CENTRE DE TRAITEMENT D'EBOLA\", 'HOPITAL GENERAL DE REFERENCE',\n",
       "       'CENTRE PSYCHOLOGIQUE', nan, \"UNITE TRANSITOIRE D'ISOLEMENT\",\n",
       "       'PHARMACIE', 'AUTRE', 'CENTRE LEDICAL', 'BANQUE DU SANG',\n",
       "       'CENTRE MEDICO CHIRURGICAL', \"LABORATOIRE D'ANALYSE\",\n",
       "       'HOPITAL PROVINCIAL DU Nord-Kivu', 'TRADIPRATICIEN',\n",
       "       'BURAE CENTRAL DE LA ZONE DE SANTE', 'CENTRE ORTHOPEDIQUE',\n",
       "       'KINESITHERAPIE', 'DENTISTERIE', 'CENTRE PEDIATRIQUE',\n",
       "       'INSTITUT MEDICO CHIRURGICAL', 'SSC', \"POINT D'ENTREE\",\n",
       "       \"CENTRE DE  TRAITEMENT D'EBOLA\", 'CENTRE DE CENTE',\n",
       "       'BUREAU CENTRAL DE LA  ZONE DE SANTE', 'CNT', 'CENTRE DE ANTE'],\n",
       "      dtype=object)"
      ]
     },
     "execution_count": 11,
     "metadata": {},
     "output_type": "execute_result"
    }
   ],
   "source": [
    "HC.TYPE.unique()"
   ]
  },
  {
   "cell_type": "code",
   "execution_count": 12,
   "metadata": {},
   "outputs": [
    {
     "data": {
      "text/plain": [
       "PAYS             1\n",
       "PROVINCE         0\n",
       "NOM_ZS           0\n",
       "CODEZS           0\n",
       "NOMAS            0\n",
       "CODEAS           9\n",
       "NOM              0\n",
       "CODEHC          43\n",
       "TYPE            17\n",
       "EDITI_PAR        1\n",
       "LONGITUDE        0\n",
       "LATITUDE         0\n",
       "OPERATIONE       0\n",
       "SOURCE         699\n",
       "STATUT        2103\n",
       "DATE           423\n",
       "FIABILITE       55\n",
       "dtype: int64"
      ]
     },
     "execution_count": 12,
     "metadata": {},
     "output_type": "execute_result"
    }
   ],
   "source": [
    "HC.isna().sum()"
   ]
  },
  {
   "cell_type": "code",
   "execution_count": 10,
   "metadata": {},
   "outputs": [
    {
     "data": {
      "text/html": [
       "<div>\n",
       "<style scoped>\n",
       "    .dataframe tbody tr th:only-of-type {\n",
       "        vertical-align: middle;\n",
       "    }\n",
       "\n",
       "    .dataframe tbody tr th {\n",
       "        vertical-align: top;\n",
       "    }\n",
       "\n",
       "    .dataframe thead th {\n",
       "        text-align: right;\n",
       "    }\n",
       "</style>\n",
       "<table border=\"1\" class=\"dataframe\">\n",
       "  <thead>\n",
       "    <tr style=\"text-align: right;\">\n",
       "      <th></th>\n",
       "      <th>CODEZS</th>\n",
       "      <th>CODEHC</th>\n",
       "      <th>LONGITUDE</th>\n",
       "      <th>LATITUDE</th>\n",
       "      <th>OPERATIONE</th>\n",
       "    </tr>\n",
       "  </thead>\n",
       "  <tbody>\n",
       "    <tr>\n",
       "      <th>count</th>\n",
       "      <td>2551.000000</td>\n",
       "      <td>2.508000e+03</td>\n",
       "      <td>2551.000000</td>\n",
       "      <td>2551.000000</td>\n",
       "      <td>2551.0</td>\n",
       "    </tr>\n",
       "    <tr>\n",
       "      <th>mean</th>\n",
       "      <td>600043.176401</td>\n",
       "      <td>6.003084e+09</td>\n",
       "      <td>29.382207</td>\n",
       "      <td>0.042667</td>\n",
       "      <td>0.0</td>\n",
       "    </tr>\n",
       "    <tr>\n",
       "      <th>std</th>\n",
       "      <td>26577.147120</td>\n",
       "      <td>2.878582e+08</td>\n",
       "      <td>0.358004</td>\n",
       "      <td>0.972480</td>\n",
       "      <td>0.0</td>\n",
       "    </tr>\n",
       "    <tr>\n",
       "      <th>min</th>\n",
       "      <td>545101.000000</td>\n",
       "      <td>0.000000e+00</td>\n",
       "      <td>28.060885</td>\n",
       "      <td>-1.740000</td>\n",
       "      <td>0.0</td>\n",
       "    </tr>\n",
       "    <tr>\n",
       "      <th>25%</th>\n",
       "      <td>611201.000000</td>\n",
       "      <td>6.112010e+09</td>\n",
       "      <td>29.223516</td>\n",
       "      <td>-0.288129</td>\n",
       "      <td>0.0</td>\n",
       "    </tr>\n",
       "    <tr>\n",
       "      <th>50%</th>\n",
       "      <td>612701.000000</td>\n",
       "      <td>6.127010e+09</td>\n",
       "      <td>29.302460</td>\n",
       "      <td>0.153180</td>\n",
       "      <td>0.0</td>\n",
       "    </tr>\n",
       "    <tr>\n",
       "      <th>75%</th>\n",
       "      <td>613105.000000</td>\n",
       "      <td>6.131050e+09</td>\n",
       "      <td>29.451840</td>\n",
       "      <td>0.521549</td>\n",
       "      <td>0.0</td>\n",
       "    </tr>\n",
       "    <tr>\n",
       "      <th>max</th>\n",
       "      <td>614201.000000</td>\n",
       "      <td>6.142010e+09</td>\n",
       "      <td>30.645129</td>\n",
       "      <td>1.953770</td>\n",
       "      <td>0.0</td>\n",
       "    </tr>\n",
       "  </tbody>\n",
       "</table>\n",
       "</div>"
      ],
      "text/plain": [
       "              CODEZS        CODEHC    LONGITUDE     LATITUDE  OPERATIONE\n",
       "count    2551.000000  2.508000e+03  2551.000000  2551.000000      2551.0\n",
       "mean   600043.176401  6.003084e+09    29.382207     0.042667         0.0\n",
       "std     26577.147120  2.878582e+08     0.358004     0.972480         0.0\n",
       "min    545101.000000  0.000000e+00    28.060885    -1.740000         0.0\n",
       "25%    611201.000000  6.112010e+09    29.223516    -0.288129         0.0\n",
       "50%    612701.000000  6.127010e+09    29.302460     0.153180         0.0\n",
       "75%    613105.000000  6.131050e+09    29.451840     0.521549         0.0\n",
       "max    614201.000000  6.142010e+09    30.645129     1.953770         0.0"
      ]
     },
     "execution_count": 10,
     "metadata": {},
     "output_type": "execute_result"
    }
   ],
   "source": [
    "HC.describe()"
   ]
  },
  {
   "cell_type": "code",
   "execution_count": 6,
   "metadata": {},
   "outputs": [],
   "source": [
    "HC.to_csv('health_centers.csv', index=False)"
   ]
  }
 ],
 "metadata": {
  "kernelspec": {
   "display_name": "Python 3",
   "language": "python",
   "name": "python3"
  },
  "language_info": {
   "codemirror_mode": {
    "name": "ipython",
    "version": 3
   },
   "file_extension": ".py",
   "mimetype": "text/x-python",
   "name": "python",
   "nbconvert_exporter": "python",
   "pygments_lexer": "ipython3",
   "version": "3.7.4"
  }
 },
 "nbformat": 4,
 "nbformat_minor": 2
}
